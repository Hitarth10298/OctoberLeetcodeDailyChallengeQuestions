{
  "nbformat": 4,
  "nbformat_minor": 0,
  "metadata": {
    "colab": {
      "provenance": []
    },
    "kernelspec": {
      "name": "python3",
      "display_name": "Python 3"
    },
    "language_info": {
      "name": "python"
    }
  },
  "cells": [
    {
      "cell_type": "markdown",
      "source": [
        "Oct 1\n",
        "\n",
        "A message containing letters from A-Z can be encoded into numbers using the following mapping:"
      ],
      "metadata": {
        "id": "2U1puNg0WUKm"
      }
    },
    {
      "cell_type": "code",
      "execution_count": null,
      "metadata": {
        "id": "-mDuz47UUXzp"
      },
      "outputs": [],
      "source": [
        "class Solution:\n",
        "    def numDecodings(self, s):\n",
        "      if len(s) == 0 or s[0] == '0':\n",
        "        return 0\n",
        "      oneBack = 1\n",
        "      twoBack = 1\n",
        "      for i in range(1, len(s)):\n",
        "        cur = 0\n",
        "        if s[i] != '0':\n",
        "          cur += oneBack\n",
        "        if s[i-1] != '0' and int(s[i-1:i+1]) <= 26:\n",
        "          cur += twoBack\n",
        "        oneBack, twoBack = cur, oneBack\n",
        "      return oneBack"
      ]
    },
    {
      "cell_type": "markdown",
      "source": [
        "Oct 2\n",
        "\n",
        "You have n dice and each die has k faces numbered from 1 to k.\n",
        "\n",
        "Given three integers n, k, and target, return the number of possible ways (out of the kn total ways) to roll the dice so the sum of the face-up numbers equals target. Since the answer may be too large, return it modulo 109 + 7."
      ],
      "metadata": {
        "id": "LT1rjjfM3hF3"
      }
    },
    {
      "cell_type": "code",
      "source": [
        "class Solution:\n",
        "    def numRollsToTarget(self, n, k, target):\n",
        "\n",
        "      mod = 10**9+7\n",
        "      dp = [[0 for j in range(target+1)] for i in range(n)]\n",
        "      for i in range(len(dp)):\n",
        "        for j in range(len(dp[0])):\n",
        "          if i == 0 and j <= k and j != 0:\n",
        "            dp[i][j] = 1\n",
        "          elif i == 0 and j > k:\n",
        "            dp[i][j] = 0\n",
        "          else:\n",
        "            if (j <= k):\n",
        "              a = 0\n",
        "            else:\n",
        "              a = j - k\n",
        "              dp[i][j] = sum(dp[i-1][a:j])\n",
        "      return dp[-1][-1]%mod"
      ],
      "metadata": {
        "id": "YIQKMFOJWiCY"
      },
      "execution_count": 1,
      "outputs": []
    },
    {
      "cell_type": "markdown",
      "source": [
        "Oct 3\n",
        "\n",
        "Alice has n balloons arranged on a rope. You are given a 0-indexed string colors where colors[i] is the color of the ith balloon.\n",
        "\n",
        "Alice wants the rope to be colorful. She does not want two consecutive balloons to be of the same color, so she asks Bob for help. Bob can remove some balloons from the rope to make it colorful. You are given a 0-indexed integer array neededTime where neededTime[i] is the time (in seconds) that Bob needs to remove the ith balloon from the rope.\n",
        "\n",
        "Return the minimum time Bob needs to make the rope colorful."
      ],
      "metadata": {
        "id": "NGqnoAEs4X_T"
      }
    },
    {
      "cell_type": "code",
      "source": [
        "class Solution:\n",
        "    def minCost(self, colors, neededTime):\n",
        "      tot_time = 0\n",
        "      i = 0\n",
        "      j = 0\n",
        "      while i < len(neededTime) and j < len(neededTime):\n",
        "        curr_tot = 0\n",
        "        curr_max = 0\n",
        "            \n",
        "        while j < len(neededTime) and colors[i] == colors[j]:\n",
        "          curr_tot += neededTime[j]\n",
        "          curr_max = max(curr_max, neededTime[j])\n",
        "          j += 1\n",
        "                \n",
        "          tot_time += curr_tot - curr_max\n",
        "          i = j\n",
        "            \n",
        "      return tot_time"
      ],
      "metadata": {
        "id": "jMvjbBgk4V5g"
      },
      "execution_count": 2,
      "outputs": []
    },
    {
      "cell_type": "markdown",
      "source": [
        "Oct 4\n",
        "\n",
        "Given the root of a binary tree and an integer targetSum, return true if the tree has a root-to-leaf path such that adding up all the values along the path equals targetSum.\n",
        "\n",
        "A leaf is a node with no children."
      ],
      "metadata": {
        "id": "DrhtvHea4yte"
      }
    },
    {
      "cell_type": "code",
      "source": [
        "class TreeNode:\n",
        "  def __init__(self, val=0, left=None, right=None):\n",
        "    self.val = val\n",
        "    self.left = left\n",
        "    self.right = right\n",
        "class Solution:\n",
        "    def hasPathSum(self, root, targetSum) -> bool:\n",
        "      dfs_stack = [(root, 0)]\n",
        "      while dfs_stack:\n",
        "        node, path_sum = dfs_stack.pop()\n",
        "        if not node:\n",
        "          continue\n",
        "          current_sum = path_sum + node.val\n",
        "          if current_sum == targetSum and not node.left and not node.right:\n",
        "            return True\n",
        "          dfs_stack.append((node.left, current_sum))\n",
        "          dfs_stack.append((node.right, current_sum))\n",
        "      return False"
      ],
      "metadata": {
        "id": "LZhTH5T14xYy"
      },
      "execution_count": 3,
      "outputs": []
    },
    {
      "cell_type": "markdown",
      "source": [
        "Oct 5\n",
        "\n",
        "Given the root of a binary tree and two integers val and depth, add a row of nodes with value val at the given depth depth.\n",
        "\n",
        "Note that the root node is at depth 1.\n",
        "\n",
        "The adding rule is:\n",
        "\n",
        "Given the integer depth, for each not null tree node cur at the depth depth - 1, create two tree nodes with value val as cur's left subtree root and right subtree root.\n",
        "cur's original left subtree should be the left subtree of the new left subtree root.\n",
        "cur's original right subtree should be the right subtree of the new right subtree root.\n",
        "If depth == 1 that means there is no depth depth - 1 at all, then create a tree node with value val as the new root of the whole original tree, and the original tree is the new root's left subtree."
      ],
      "metadata": {
        "id": "5veVo_Sw5iqb"
      }
    },
    {
      "cell_type": "code",
      "source": [
        "class TreeNode:\n",
        "  def __init__(self, val=0, left=None, right=None):\n",
        "    self.val = val\n",
        "    self.left = left\n",
        "    self.right = right\n",
        "class Solution:\n",
        "    def addOneRow(self, root, val, depth, left: bool = True):\n",
        "      if depth == 1:\n",
        "        return TreeNode(val, root if left else None, root if not left else None)\n",
        "      elif root:\n",
        "        root.left = self.addOneRow(root.left, val, depth-1, True)\n",
        "        root.right = self.addOneRow(root.right, val, depth-1, False)\n",
        "      return root"
      ],
      "metadata": {
        "id": "u8N5U2i15hMq"
      },
      "execution_count": 4,
      "outputs": []
    },
    {
      "cell_type": "code",
      "source": [],
      "metadata": {
        "id": "oYVZxyz86ITo"
      },
      "execution_count": null,
      "outputs": []
    }
  ]
}