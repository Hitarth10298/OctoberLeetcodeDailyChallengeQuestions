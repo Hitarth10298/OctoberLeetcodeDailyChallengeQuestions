{
  "nbformat": 4,
  "nbformat_minor": 0,
  "metadata": {
    "colab": {
      "provenance": []
    },
    "kernelspec": {
      "name": "python3",
      "display_name": "Python 3"
    },
    "language_info": {
      "name": "python"
    }
  },
  "cells": [
    {
      "cell_type": "markdown",
      "source": [
        "Oct 1\n",
        "\n",
        "A message containing letters from A-Z can be encoded into numbers using the following mapping:"
      ],
      "metadata": {
        "id": "2U1puNg0WUKm"
      }
    },
    {
      "cell_type": "code",
      "execution_count": 1,
      "metadata": {
        "id": "-mDuz47UUXzp"
      },
      "outputs": [],
      "source": [
        "class Solution:\n",
        "    def numDecodings(self, s):\n",
        "      if len(s) == 0 or s[0] == '0':\n",
        "        return 0\n",
        "      oneBack = 1\n",
        "      twoBack = 1\n",
        "      for i in range(1, len(s)):\n",
        "        cur = 0\n",
        "        if s[i] != '0':\n",
        "          cur += oneBack\n",
        "        if s[i-1] != '0' and int(s[i-1:i+1]) <= 26:\n",
        "          cur += twoBack\n",
        "        oneBack, twoBack = cur, oneBack\n",
        "      return oneBack"
      ]
    },
    {
      "cell_type": "code",
      "source": [],
      "metadata": {
        "id": "YIQKMFOJWiCY"
      },
      "execution_count": null,
      "outputs": []
    }
  ]
}