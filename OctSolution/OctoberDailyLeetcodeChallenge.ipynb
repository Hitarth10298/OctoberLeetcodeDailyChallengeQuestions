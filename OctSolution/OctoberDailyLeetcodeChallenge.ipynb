{
  "nbformat": 4,
  "nbformat_minor": 0,
  "metadata": {
    "colab": {
      "provenance": []
    },
    "kernelspec": {
      "name": "python3",
      "display_name": "Python 3"
    },
    "language_info": {
      "name": "python"
    }
  },
  "cells": [
    {
      "cell_type": "markdown",
      "source": [
        "Oct 1\n",
        "\n",
        "A message containing letters from A-Z can be encoded into numbers using the following mapping:"
      ],
      "metadata": {
        "id": "2U1puNg0WUKm"
      }
    },
    {
      "cell_type": "code",
      "execution_count": null,
      "metadata": {
        "id": "-mDuz47UUXzp"
      },
      "outputs": [],
      "source": [
        "class Solution:\n",
        "    def numDecodings(self, s):\n",
        "      if len(s) == 0 or s[0] == '0':\n",
        "        return 0\n",
        "      oneBack = 1\n",
        "      twoBack = 1\n",
        "      for i in range(1, len(s)):\n",
        "        cur = 0\n",
        "        if s[i] != '0':\n",
        "          cur += oneBack\n",
        "        if s[i-1] != '0' and int(s[i-1:i+1]) <= 26:\n",
        "          cur += twoBack\n",
        "        oneBack, twoBack = cur, oneBack\n",
        "      return oneBack"
      ]
    },
    {
      "cell_type": "markdown",
      "source": [
        "Oct 2\n",
        "\n",
        "You have n dice and each die has k faces numbered from 1 to k.\n",
        "\n",
        "Given three integers n, k, and target, return the number of possible ways (out of the kn total ways) to roll the dice so the sum of the face-up numbers equals target. Since the answer may be too large, return it modulo 109 + 7."
      ],
      "metadata": {
        "id": "LT1rjjfM3hF3"
      }
    },
    {
      "cell_type": "code",
      "source": [
        "class Solution:\n",
        "    def numRollsToTarget(self, n, k, target):\n",
        "\n",
        "      mod = 10**9+7\n",
        "      dp = [[0 for j in range(target+1)] for i in range(n)]\n",
        "      for i in range(len(dp)):\n",
        "        for j in range(len(dp[0])):\n",
        "          if i == 0 and j <= k and j != 0:\n",
        "            dp[i][j] = 1\n",
        "          elif i == 0 and j > k:\n",
        "            dp[i][j] = 0\n",
        "          else:\n",
        "            if (j <= k):\n",
        "              a = 0\n",
        "            else:\n",
        "              a = j - k\n",
        "              dp[i][j] = sum(dp[i-1][a:j])\n",
        "      return dp[-1][-1]%mod"
      ],
      "metadata": {
        "id": "YIQKMFOJWiCY"
      },
      "execution_count": null,
      "outputs": []
    },
    {
      "cell_type": "markdown",
      "source": [
        "Oct 3\n",
        "\n",
        "Alice has n balloons arranged on a rope. You are given a 0-indexed string colors where colors[i] is the color of the ith balloon.\n",
        "\n",
        "Alice wants the rope to be colorful. She does not want two consecutive balloons to be of the same color, so she asks Bob for help. Bob can remove some balloons from the rope to make it colorful. You are given a 0-indexed integer array neededTime where neededTime[i] is the time (in seconds) that Bob needs to remove the ith balloon from the rope.\n",
        "\n",
        "Return the minimum time Bob needs to make the rope colorful."
      ],
      "metadata": {
        "id": "NGqnoAEs4X_T"
      }
    },
    {
      "cell_type": "code",
      "source": [
        "class Solution:\n",
        "    def minCost(self, colors, neededTime):\n",
        "      tot_time = 0\n",
        "      i = 0\n",
        "      j = 0\n",
        "      while i < len(neededTime) and j < len(neededTime):\n",
        "        curr_tot = 0\n",
        "        curr_max = 0\n",
        "            \n",
        "        while j < len(neededTime) and colors[i] == colors[j]:\n",
        "          curr_tot += neededTime[j]\n",
        "          curr_max = max(curr_max, neededTime[j])\n",
        "          j += 1\n",
        "                \n",
        "          tot_time += curr_tot - curr_max\n",
        "          i = j\n",
        "            \n",
        "      return tot_time"
      ],
      "metadata": {
        "id": "jMvjbBgk4V5g"
      },
      "execution_count": null,
      "outputs": []
    },
    {
      "cell_type": "markdown",
      "source": [
        "Oct 4\n",
        "\n",
        "Given the root of a binary tree and an integer targetSum, return true if the tree has a root-to-leaf path such that adding up all the values along the path equals targetSum.\n",
        "\n",
        "A leaf is a node with no children."
      ],
      "metadata": {
        "id": "DrhtvHea4yte"
      }
    },
    {
      "cell_type": "code",
      "source": [
        "class TreeNode:\n",
        "  def __init__(self, val=0, left=None, right=None):\n",
        "    self.val = val\n",
        "    self.left = left\n",
        "    self.right = right\n",
        "class Solution:\n",
        "    def hasPathSum(self, root, targetSum) -> bool:\n",
        "      dfs_stack = [(root, 0)]\n",
        "      while dfs_stack:\n",
        "        node, path_sum = dfs_stack.pop()\n",
        "        if not node:\n",
        "          continue\n",
        "          current_sum = path_sum + node.val\n",
        "          if current_sum == targetSum and not node.left and not node.right:\n",
        "            return True\n",
        "          dfs_stack.append((node.left, current_sum))\n",
        "          dfs_stack.append((node.right, current_sum))\n",
        "      return False"
      ],
      "metadata": {
        "id": "LZhTH5T14xYy"
      },
      "execution_count": null,
      "outputs": []
    },
    {
      "cell_type": "markdown",
      "source": [
        "Oct 5\n",
        "\n",
        "Given the root of a binary tree and two integers val and depth, add a row of nodes with value val at the given depth depth.\n",
        "\n",
        "Note that the root node is at depth 1.\n",
        "\n",
        "The adding rule is:\n",
        "\n",
        "Given the integer depth, for each not null tree node cur at the depth depth - 1, create two tree nodes with value val as cur's left subtree root and right subtree root.\n",
        "cur's original left subtree should be the left subtree of the new left subtree root.\n",
        "cur's original right subtree should be the right subtree of the new right subtree root.\n",
        "If depth == 1 that means there is no depth depth - 1 at all, then create a tree node with value val as the new root of the whole original tree, and the original tree is the new root's left subtree."
      ],
      "metadata": {
        "id": "5veVo_Sw5iqb"
      }
    },
    {
      "cell_type": "code",
      "source": [
        "class TreeNode:\n",
        "  def __init__(self, val=0, left=None, right=None):\n",
        "    self.val = val\n",
        "    self.left = left\n",
        "    self.right = right\n",
        "class Solution:\n",
        "    def addOneRow(self, root, val, depth, left: bool = True):\n",
        "      if depth == 1:\n",
        "        return TreeNode(val, root if left else None, root if not left else None)\n",
        "      elif root:\n",
        "        root.left = self.addOneRow(root.left, val, depth-1, True)\n",
        "        root.right = self.addOneRow(root.right, val, depth-1, False)\n",
        "      return root"
      ],
      "metadata": {
        "id": "u8N5U2i15hMq"
      },
      "execution_count": null,
      "outputs": []
    },
    {
      "cell_type": "markdown",
      "source": [
        "Oct 6\n",
        "\n",
        "Design a time-based key-value data structure that can store multiple values for the same key at different time stamps and retrieve the key's value at a certain timestamp.\n",
        "\n",
        "Implement the TimeMap class:\n",
        "\n",
        "TimeMap() Initializes the object of the data structure.\n",
        "void set(String key, String value, int timestamp) Stores the key key with the value value at the given time timestamp.\n",
        "String get(String key, int timestamp) Returns a value such that set was called previously, with timestamp_prev <= timestamp. If there are multiple such values, it returns the value associated with the largest timestamp_prev. If there are no values, it returns \"\"."
      ],
      "metadata": {
        "id": "5d2Eu_KiFFdq"
      }
    },
    {
      "cell_type": "code",
      "source": [
        "class TimeMap:\n",
        "\n",
        "    def __init__(self):\n",
        "        self.key_time_map = {}\n",
        "\n",
        "    def set(self, key, value, timestamp):\n",
        "      if not key in self.key_time_map:\n",
        "        self.key_time_map[key] = {}\n",
        "      self.key_time_map[key][timestamp] = value\n",
        "\n",
        "    def get(self, key, timestamp):\n",
        "      if not key in self.key_time_map:\n",
        "        return \"\"\n",
        "      for curr_time in reversed(range(1, timestamp + 1)):\n",
        "        if curr_time in self.key_time_map[key]:\n",
        "          return self.key_time_map[key][curr_time]\n",
        "      return \"\""
      ],
      "metadata": {
        "id": "oYVZxyz86ITo"
      },
      "execution_count": 1,
      "outputs": []
    },
    {
      "cell_type": "markdown",
      "source": [
        "Oct 7\n",
        "\n",
        "Given a string s containing just the characters '(', ')', '{', '}', '[' and ']', determine if the input string is valid.\n",
        "\n",
        "An input string is valid if:\n",
        "\n",
        "Open brackets must be closed by the same type of brackets.\n",
        "Open brackets must be closed in the correct order.\n",
        "Every close bracket has a corresponding open bracket of the same type."
      ],
      "metadata": {
        "id": "lW-nONEJFecW"
      }
    },
    {
      "cell_type": "code",
      "source": [
        "class Solution:\n",
        "    def isValid(self, s):\n",
        "      if s == \"\":\n",
        "        return True\n",
        "        \n",
        "      d = {\n",
        "        ')': '(',\n",
        "        '}': '{',\n",
        "        ']': '[',\n",
        "        }\n",
        "      stack = []\n",
        "        \n",
        "      for c in s:\n",
        "        if c in d:\n",
        "          if len(stack) == 0 or stack.pop(-1) != d[c]:\n",
        "            return False\n",
        "          else:\n",
        "            stack.append(c)\n",
        "      return len(stack) == 0"
      ],
      "metadata": {
        "id": "yxu3nAbOFb8b"
      },
      "execution_count": 2,
      "outputs": []
    },
    {
      "cell_type": "markdown",
      "source": [
        "Oct 8\n",
        "\n",
        "Given an integer array nums of length n and an integer target, find three integers in nums such that the sum is closest to target.\n",
        "\n",
        "Return the sum of the three integers.\n",
        "\n",
        "You may assume that each input would have exactly one solution."
      ],
      "metadata": {
        "id": "VRmZ7NcNF42-"
      }
    },
    {
      "cell_type": "code",
      "source": [
        "class Solution:\n",
        "    def threeSumClosest(self, nums, target):\n",
        "      if len(set(nums)) == 1:\n",
        "        return nums[0] + nums[1] + nums[2]\n",
        "      nums.sort()\n",
        "      cad = float('inf')\n",
        "      for i in range(len(nums)):\n",
        "        j = i+1\n",
        "        k = len(nums)-1\n",
        "        while j < k:\n",
        "          curr = nums[i] + nums[j] + nums[k]\n",
        "          if abs(curr-target) <= abs(cad-target):\n",
        "            cad = curr\n",
        "            if curr>target:\n",
        "              k -= 1\n",
        "            else:\n",
        "              j += 1\n",
        "      return cad"
      ],
      "metadata": {
        "id": "IuKYxRD6F3Qc"
      },
      "execution_count": 3,
      "outputs": []
    },
    {
      "cell_type": "markdown",
      "source": [
        "Oct 9\n",
        "\n",
        "Given the root of a Binary Search Tree and a target number k, return true if there exist two elements in the BST such that their sum is equal to the given target."
      ],
      "metadata": {
        "id": "Su_tDHgpGWiz"
      }
    },
    {
      "cell_type": "code",
      "source": [
        "class TreeNode:\n",
        "  def __init__(self, val=0, left=None, right=None):\n",
        "    self.val = val\n",
        "    self.left = left\n",
        "    self.right = right\n",
        "class Solution:\n",
        "    def binary_search(self, node, root, val):\n",
        "        curr = root\n",
        "        while curr:\n",
        "            if curr.val == val:\n",
        "                return curr != node\n",
        "            elif val < curr.val:\n",
        "                curr = curr.left\n",
        "            elif val > curr.val:\n",
        "                curr = curr.right\n",
        "        return False\n",
        "    \n",
        "    def traverse_and_find_target(self, node, root, k):\n",
        "        if node == None:\n",
        "            return False\n",
        "        if self.binary_search(node, root, k-node.val):\n",
        "            return True\n",
        "        return self.traverse_and_find_target(node.left, root, k) or self.traverse_and_find_target(node.right, root, k)\n",
        "    \n",
        "    def findTarget(self, root, k):\n",
        "      return self.traverse_and_find_target(root, root, k)"
      ],
      "metadata": {
        "id": "DxsoYvr4GVjK"
      },
      "execution_count": 4,
      "outputs": []
    },
    {
      "cell_type": "markdown",
      "source": [
        "Oct 10\n",
        "\n",
        "Given a palindromic string of lowercase English letters palindrome, replace exactly one character with any lowercase English letter so that the resulting string is not a palindrome and that it is the lexicographically smallest one possible.\n",
        "\n",
        "Return the resulting string. If there is no way to replace a character to make it not a palindrome, return an empty string.\n",
        "\n",
        "A string a is lexicographically smaller than a string b (of the same length) if in the first position where a and b differ, a has a character strictly smaller than the corresponding character in b. For example, \"abcc\" is lexicographically smaller than \"abcd\" because the first position they differ is at the fourth character, and 'c' is smaller than 'd'."
      ],
      "metadata": {
        "id": "ILK-n3E2HBit"
      }
    },
    {
      "cell_type": "code",
      "source": [
        "class Solution:\n",
        "    def breakPalindrome(self, palindrome):\n",
        "      if len(palindrome) == 1:\n",
        "        return \"\"\n",
        "      for i in range(len(palindrome)):\n",
        "        if palindrome[i] != \"a\":\n",
        "          st = palindrome[:i] + \"a\" + palindrome[i+1:]\n",
        "          if len(st) * st[0] == st:\n",
        "            continue\n",
        "          return palindrome[:i] + \"a\" + palindrome[i+1:]\n",
        "      return palindrome[:len(palindrome)-1] + \"b\""
      ],
      "metadata": {
        "id": "bWFaV6zxHAVA"
      },
      "execution_count": 5,
      "outputs": []
    },
    {
      "cell_type": "markdown",
      "source": [
        "Oct 11\n",
        "\n",
        "Given an integer array nums, return true if there exists a triple of indices (i, j, k) such that i < j < k and nums[i] < nums[j] < nums[k]. If no such indices exists, return false."
      ],
      "metadata": {
        "id": "dve2PFkOHbcy"
      }
    },
    {
      "cell_type": "code",
      "source": [
        "class Solution:\n",
        "    def increasingTriplet(self, nums):\n",
        "      f = float('inf')\n",
        "      s = float('inf')\n",
        "        \n",
        "      for t in nums:\n",
        "            \n",
        "        if s < t:\n",
        "          return True\n",
        "        elif t <= f:\n",
        "          f = t\n",
        "        else:\n",
        "          s = t\n",
        "      return False"
      ],
      "metadata": {
        "id": "BlZTfX5SHaXx"
      },
      "execution_count": 6,
      "outputs": []
    },
    {
      "cell_type": "markdown",
      "source": [
        "Oct 12\n",
        "\n",
        "Given an integer array nums, return the largest perimeter of a triangle with a non-zero area, formed from three of these lengths. If it is impossible to form any triangle of a non-zero area, return 0."
      ],
      "metadata": {
        "id": "goRNLVDpIXEl"
      }
    },
    {
      "cell_type": "code",
      "source": [
        "class Solution:\n",
        "    def largestPerimeter(self, nums):\n",
        "      nums = sorted(nums)[::-1]\n",
        "      for a, b, c in zip(nums, nums[1:], nums[2:]):\n",
        "        if a < b+c:\n",
        "          return a+b+c\n",
        "      return 0"
      ],
      "metadata": {
        "id": "zhAUlgaIIWB_"
      },
      "execution_count": 7,
      "outputs": []
    },
    {
      "cell_type": "code",
      "source": [],
      "metadata": {
        "id": "R1nHaQ3NIlE7"
      },
      "execution_count": null,
      "outputs": []
    }
  ]
}